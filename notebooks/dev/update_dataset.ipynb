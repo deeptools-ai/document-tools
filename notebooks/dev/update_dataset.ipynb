{
 "cells": [
  {
   "cell_type": "code",
   "execution_count": 1,
   "metadata": {},
   "outputs": [
    {
     "name": "stderr",
     "output_type": "stream",
     "text": [
      "/home/chainyo/.cache/pypoetry/virtualenvs/document-tools-HVvpc1P8-py3.8/lib/python3.8/site-packages/tqdm/auto.py:22: TqdmWarning: IProgress not found. Please update jupyter and ipywidgets. See https://ipywidgets.readthedocs.io/en/stable/user_install.html\n",
      "  from .autonotebook import tqdm as notebook_tqdm\n"
     ]
    }
   ],
   "source": [
    "from datasets import load_dataset\n",
    "import numpy as np"
   ]
  },
  {
   "cell_type": "code",
   "execution_count": 2,
   "metadata": {},
   "outputs": [
    {
     "name": "stderr",
     "output_type": "stream",
     "text": [
      "Using custom data configuration deeptools-ai--test-document-invoice-f39f5443070836d3\n",
      "Reusing dataset parquet (/home/chainyo/.cache/huggingface/datasets/deeptools-ai___parquet/deeptools-ai--test-document-invoice-f39f5443070836d3/0.0.0/7328ef7ee03eaf3f86ae40594d46a1cec86161704e02dd19f232d81eee72ade8)\n"
     ]
    },
    {
     "data": {
      "text/plain": [
       "{'image': Image(decode=True, id=None),\n",
       " 'label': ClassLabel(num_classes=16, names=['advertisement', 'budget', 'email', 'file folder', 'form', 'handwritten', 'invoice', 'letter', 'memo', 'news article', 'presentation', 'questionnaire', 'resume', 'scientific publication', 'scientific report', 'specification'], id=None)}"
      ]
     },
     "execution_count": 2,
     "metadata": {},
     "output_type": "execute_result"
    }
   ],
   "source": [
    "dataset = load_dataset(\"deeptools-ai/test-document-invoice\", split=\"train\")\n",
    "dataset.features"
   ]
  },
  {
   "cell_type": "code",
   "execution_count": 3,
   "metadata": {},
   "outputs": [
    {
     "name": "stdout",
     "output_type": "stream",
     "text": [
      "[6] <class 'numpy.ndarray'>\n"
     ]
    }
   ],
   "source": [
    "tmp_dataset = dataset.to_dict()\n",
    "\n",
    "labels = tmp_dataset[\"label\"]\n",
    "\n",
    "labels = [np.asarray([label]) for label in labels]\n",
    "print(labels[0], type(labels[0]))"
   ]
  },
  {
   "cell_type": "code",
   "execution_count": 4,
   "metadata": {},
   "outputs": [],
   "source": [
    "tmp_dataset[\"label\"] = labels"
   ]
  },
  {
   "cell_type": "code",
   "execution_count": 6,
   "metadata": {},
   "outputs": [],
   "source": [
    "from datasets import ClassLabel, Dataset, Features, Image, Sequence\n",
    "\n",
    "features = Features(\n",
    "    {\n",
    "        \"image\": Image(decode=True, id=None),\n",
    "        \"label\": Sequence(\n",
    "            feature=ClassLabel(\n",
    "                num_classes=16, \n",
    "                names=[\n",
    "                    \"advertisement\",\n",
    "                    \"budget\",\n",
    "                    \"email\",\n",
    "                    \"file folder\",\n",
    "                    \"form\",\n",
    "                    \"handwritten\",\n",
    "                    \"invoice\",\n",
    "                    \"letter\",\n",
    "                    \"memo\",\n",
    "                    \"news article\",\n",
    "                    \"presentation\",\n",
    "                    \"questionnaire\",\n",
    "                    \"resume\",\n",
    "                    \"scientific publication\",\n",
    "                    \"scientific report\",\n",
    "                    \"specification\"\n",
    "                ], \n",
    "                id=None\n",
    "            ), \n",
    "            length=-1, \n",
    "            id=None\n",
    "        ),\n",
    "    }\n",
    ")\n",
    "\n",
    "new_dataset = Dataset.from_dict(tmp_dataset, features=features)"
   ]
  },
  {
   "cell_type": "code",
   "execution_count": 7,
   "metadata": {},
   "outputs": [
    {
     "data": {
      "text/plain": [
       "Dataset({\n",
       "    features: ['image', 'label'],\n",
       "    num_rows: 199\n",
       "})"
      ]
     },
     "execution_count": 7,
     "metadata": {},
     "output_type": "execute_result"
    }
   ],
   "source": [
    "new_dataset"
   ]
  },
  {
   "cell_type": "code",
   "execution_count": 8,
   "metadata": {},
   "outputs": [
    {
     "data": {
      "text/plain": [
       "{'image': Image(decode=True, id=None),\n",
       " 'label': Sequence(feature=ClassLabel(num_classes=16, names=['advertisement', 'budget', 'email', 'file folder', 'form', 'handwritten', 'invoice', 'letter', 'memo', 'news article', 'presentation', 'questionnaire', 'resume', 'scientific publication', 'scientific report', 'specification'], id=None), length=-1, id=None)}"
      ]
     },
     "execution_count": 8,
     "metadata": {},
     "output_type": "execute_result"
    }
   ],
   "source": [
    "new_dataset.features"
   ]
  },
  {
   "cell_type": "code",
   "execution_count": 9,
   "metadata": {},
   "outputs": [
    {
     "name": "stderr",
     "output_type": "stream",
     "text": [
      "100%|██████████| 1/1 [00:00<00:00, 38.92ba/s]\n",
      "Pushing dataset shards to the dataset hub:   0%|          | 0/1 [00:00<?, ?it/s]/home/chainyo/.cache/pypoetry/virtualenvs/document-tools-HVvpc1P8-py3.8/lib/python3.8/site-packages/huggingface_hub/hf_api.py:1892: FutureWarning: `identical_ok` has no effect and is deprecated. It will be removed in 0.11.0.\n",
      "  warnings.warn(\n",
      "Pushing dataset shards to the dataset hub: 100%|██████████| 1/1 [00:06<00:00,  6.05s/it]\n",
      "Deleting unused files from dataset repository: 100%|██████████| 1/1 [00:01<00:00,  1.01s/it]\n",
      "Updating downloaded metadata with the new split.\n"
     ]
    }
   ],
   "source": [
    "new_dataset.push_to_hub(\"deeptools-ai/test-document-invoice\", split=\"train\")"
   ]
  },
  {
   "cell_type": "code",
   "execution_count": null,
   "metadata": {},
   "outputs": [],
   "source": []
  }
 ],
 "metadata": {
  "kernelspec": {
   "display_name": "Python 3.8.10 ('document-tools-HVvpc1P8-py3.8')",
   "language": "python",
   "name": "python3"
  },
  "language_info": {
   "codemirror_mode": {
    "name": "ipython",
    "version": 3
   },
   "file_extension": ".py",
   "mimetype": "text/x-python",
   "name": "python",
   "nbconvert_exporter": "python",
   "pygments_lexer": "ipython3",
   "version": "3.8.10"
  },
  "orig_nbformat": 4,
  "vscode": {
   "interpreter": {
    "hash": "00ce663998bf2bb3cabd6b3b4b19c83598b3d604d993f914a169c40775fa5cf8"
   }
  }
 },
 "nbformat": 4,
 "nbformat_minor": 2
}
