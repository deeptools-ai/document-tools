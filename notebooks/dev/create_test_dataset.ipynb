{
 "cells": [
  {
   "cell_type": "code",
   "execution_count": 8,
   "metadata": {},
   "outputs": [],
   "source": [
    "from datasets import load_dataset"
   ]
  },
  {
   "cell_type": "code",
   "execution_count": 27,
   "metadata": {},
   "outputs": [
    {
     "name": "stderr",
     "output_type": "stream",
     "text": [
      "Using custom data configuration ChainYo--rvl-cdip-invoice-e89502dfe52b2353\n",
      "Reusing dataset parquet (/home/chainyo/.cache/huggingface/datasets/parquet/ChainYo--rvl-cdip-invoice-e89502dfe52b2353/0.0.0/0b6d5799bb726b24ad7fc7be720c170d8e497f575d02d47537de9a5bac074901)\n"
     ]
    }
   ],
   "source": [
    "source_dataset = load_dataset(\"ChainYo/rvl-cdip-invoice\", split=\"train[:1%]\")"
   ]
  },
  {
   "cell_type": "code",
   "execution_count": 28,
   "metadata": {},
   "outputs": [
    {
     "data": {
      "text/plain": [
       "Dataset({\n",
       "    features: ['image', 'label'],\n",
       "    num_rows: 199\n",
       "})"
      ]
     },
     "execution_count": 28,
     "metadata": {},
     "output_type": "execute_result"
    }
   ],
   "source": [
    "source_dataset"
   ]
  },
  {
   "cell_type": "code",
   "execution_count": 31,
   "metadata": {},
   "outputs": [
    {
     "name": "stderr",
     "output_type": "stream",
     "text": [
      "The repository already exists: the `private` keyword argument will be ignored.\n"
     ]
    },
    {
     "data": {
      "application/vnd.jupyter.widget-view+json": {
       "model_id": "952e5220f3714ba29b52135eaf9402aa",
       "version_major": 2,
       "version_minor": 0
      },
      "text/plain": [
       "Pushing dataset shards to the dataset hub:   0%|          | 0/1 [00:00<?, ?it/s]"
      ]
     },
     "metadata": {},
     "output_type": "display_data"
    },
    {
     "data": {
      "application/vnd.jupyter.widget-view+json": {
       "model_id": "b35c48ca2d8b423d83d62b04c758d9cc",
       "version_major": 2,
       "version_minor": 0
      },
      "text/plain": [
       "  0%|          | 0/1 [00:00<?, ?ba/s]"
      ]
     },
     "metadata": {},
     "output_type": "display_data"
    }
   ],
   "source": [
    "source_dataset.push_to_hub(\"deeptools-ai/test-document-invoice\", split=\"train\")"
   ]
  },
  {
   "cell_type": "code",
   "execution_count": null,
   "metadata": {},
   "outputs": [],
   "source": [
    "TARGET_MODELS = {\n",
    "    \"layoutlmv2\": {\n",
    "        \"preprocessor\": 1,\n",
    "        \"default_model\": \"microsoft/layoutlmv2-base-uncased\",\n",
    "        \"encode_function\": 3,\n",
    "        \"features\": 2\n",
    "    },\n",
    "    \"layoutlmv3\": {\n",
    "        \"preprocessor\": 1,\n",
    "        \"default_model\": \"microsoft/layoutlmv3-base-uncased\",\n",
    "        \"encode_function\": 3,\n",
    "        \"features\": 2,\n",
    "    },\n",
    "    \"layoutxlm\": {\n",
    "        \"preprocessor\": 1\n",
    "        \"default_model\": \"microsoft/layoutxlm-base-uncased\",\n",
    "        \"encode_function\": 3,\n",
    "        \"features\": 2,\n",
    "    },\n",
    "}"
   ]
  }
 ],
 "metadata": {
  "kernelspec": {
   "display_name": "Python 3.8.13 ('gan-bird')",
   "language": "python",
   "name": "python3"
  },
  "language_info": {
   "codemirror_mode": {
    "name": "ipython",
    "version": 3
   },
   "file_extension": ".py",
   "mimetype": "text/x-python",
   "name": "python",
   "nbconvert_exporter": "python",
   "pygments_lexer": "ipython3",
   "version": "3.8.13"
  },
  "orig_nbformat": 4,
  "vscode": {
   "interpreter": {
    "hash": "5406f92c8d19fda445423ffdaa7070bacd3ced4c073d12b808912f01e69056e3"
   }
  }
 },
 "nbformat": 4,
 "nbformat_minor": 2
}
